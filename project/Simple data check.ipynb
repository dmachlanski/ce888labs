{
 "cells": [
  {
   "cell_type": "code",
   "execution_count": 1,
   "metadata": {},
   "outputs": [],
   "source": [
    "import pandas as pd"
   ]
  },
  {
   "cell_type": "code",
   "execution_count": 2,
   "metadata": {},
   "outputs": [],
   "source": [
    "data = pd.read_csv('data.csv')"
   ]
  },
  {
   "cell_type": "code",
   "execution_count": 3,
   "metadata": {},
   "outputs": [
    {
     "name": "stdout",
     "output_type": "stream",
     "text": [
      "   Cell0  Cell1  Cell2  Cell3  Cell4  Cell5  Cell6  Cell7  Cell8  Player  Move\n",
      "0      2      0      1      1      1      0      2      0      0       2     5\n",
      "1      2      1      2      2      1      1      1      2      0       1     8\n",
      "2      1      0      0      0      0      0      0      0      0       2     4\n",
      "3      1      0      0      0      0      0      0      0      0       2     4\n",
      "4      0      0      0      0      0      0      0      0      0       1     4\n"
     ]
    }
   ],
   "source": [
    "print(data.head())"
   ]
  },
  {
   "cell_type": "code",
   "execution_count": 4,
   "metadata": {},
   "outputs": [
    {
     "name": "stdout",
     "output_type": "stream",
     "text": [
      "\\begin{tabular}{lrrrrrrrrrrr}\n",
      "\\toprule\n",
      "{} &  Cell0 &  Cell1 &  Cell2 &  Cell3 &  Cell4 &  Cell5 &  Cell6 &  Cell7 &  Cell8 &  Player &  Move \\\\\n",
      "\\midrule\n",
      "0 &      2 &      0 &      1 &      1 &      1 &      0 &      2 &      0 &      0 &       2 &     5 \\\\\n",
      "1 &      2 &      1 &      2 &      2 &      1 &      1 &      1 &      2 &      0 &       1 &     8 \\\\\n",
      "2 &      1 &      0 &      0 &      0 &      0 &      0 &      0 &      0 &      0 &       2 &     4 \\\\\n",
      "3 &      1 &      0 &      0 &      0 &      0 &      0 &      0 &      0 &      0 &       2 &     4 \\\\\n",
      "4 &      0 &      0 &      0 &      0 &      0 &      0 &      0 &      0 &      0 &       1 &     4 \\\\\n",
      "\\bottomrule\n",
      "\\end{tabular}\n",
      "\n"
     ]
    }
   ],
   "source": [
    "print(data.head().to_latex())"
   ]
  }
 ],
 "metadata": {
  "kernelspec": {
   "display_name": "Python 3",
   "language": "python",
   "name": "python3"
  },
  "language_info": {
   "codemirror_mode": {
    "name": "ipython",
    "version": 3
   },
   "file_extension": ".py",
   "mimetype": "text/x-python",
   "name": "python",
   "nbconvert_exporter": "python",
   "pygments_lexer": "ipython3",
   "version": "3.7.1"
  }
 },
 "nbformat": 4,
 "nbformat_minor": 2
}
